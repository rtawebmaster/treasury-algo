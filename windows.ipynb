{
 "cells": [
  {
   "cell_type": "code",
   "execution_count": null,
   "id": "1b19e4eb",
   "metadata": {},
   "outputs": [],
   "source": [
    "# Treasury Forecasting algo version #2 determining the best investment windows\n",
    "import mysql.connector\n",
    "import pandas as pd\n",
    "import numpy as np\n",
    "import os\n",
    "from dotenv import load_dotenv\n",
    "load_dotenv(verbose=False)\n",
    "\n",
    "# Database connection parameters\n",
    "DB_CONFIG = {\n",
    "    \"host\": os.getenv(\"DB_HOST\"),\n",
    "    \"user\": os.getenv(\"DB_USER\"),\n",
    "    \"password\": os.getenv(\"DB_PASSWORD\"),\n",
    "    \"database\": os.getenv(\"DB_NAME\"),\n",
    "}\n",
    "\n",
    "print('Database URL: ' + os.environ.get('DB_HOST'))"
   ]
  },
  {
   "cell_type": "code",
   "execution_count": null,
   "id": "c3816a36",
   "metadata": {},
   "outputs": [],
   "source": [
    "# Fetch data from database and return as a DataFrame\n",
    "def fetch_data(table_name, column_names='*', condition='1', sql=False):\n",
    "    try:\n",
    "        # Connect\n",
    "        conn = mysql.connector.connect(**DB_CONFIG)\n",
    "        cursor = conn.cursor()\n",
    "        # Fetch\n",
    "        if sql:\n",
    "            cursor.execute(sql)\n",
    "        else:\n",
    "            query = f\"SELECT {column_names} FROM {table_name} WHERE {condition}\"\n",
    "            cursor.execute(query)\n",
    "        # Fetch column names\n",
    "        columns = [col[0] for col in cursor.description]\n",
    "        # Fetch data\n",
    "        data = cursor.fetchall()\n",
    "        df = pd.DataFrame(data, columns=columns)\n",
    "        return df\n",
    "    except mysql.connector.Error as err:\n",
    "        print(f\"Error: {err}\")\n",
    "        return None\n",
    "    finally:\n",
    "        if 'conn' in locals() and conn.is_connected():\n",
    "            cursor.close()\n",
    "            conn.close()"
   ]
  },
  {
   "cell_type": "code",
   "execution_count": null,
   "id": "5d6cb1f0",
   "metadata": {},
   "outputs": [],
   "source": [
    "# STEP 1: Get the asset classes combined with their parent class ID\n",
    "table_name = 'AssetClass'\n",
    "sql = \"\"\"SELECT a.`ID`, a.`Title`, a.`Group`, a.`Issuer`, a.`PercentMax`,\n",
    "CASE WHEN p.`Title` IS NULL THEN a.`Title` ELSE p.`Title` END AS `AssetClassCombined`\n",
    "FROM `AssetClass` a\n",
    "LEFT JOIN ( SELECT ac.`ID`, ac.`Title`, ac.`Group`, ac.`PercentMax` FROM `AssetClass` ac\n",
    "WHERE AssetClassParentID = 0 ) p ON p.ID = a.AssetClassParentID\n",
    "WHERE AssetClassParentID = 0 AND a.Title != 'Not Assigned'\n",
    "\"\"\"\n",
    "asset_classes = fetch_data(table_name, '',1,sql)\n",
    "asset_classes"
   ]
  },
  {
   "cell_type": "code",
   "execution_count": null,
   "id": "51b4ca93",
   "metadata": {},
   "outputs": [],
   "source": [
    "# STEP 4: Running balance day view taken from the SQL views\n",
    "#           Q: Do we want to replace the SQL views with pandas dataframes?\n",
    "\n",
    "table_name = 'RunningBalanceDayView'\n",
    "running_balances = fetch_data(table_name)\n"
   ]
  },
  {
   "cell_type": "code",
   "execution_count": null,
   "id": "c9fede55",
   "metadata": {},
   "outputs": [],
   "source": [
    "# Add the daily total portfolio balance to the running balances DataFrame\n",
    "\n",
    "# Convert TransactionDate to datetime if not already\n",
    "running_balances['TransactionDate'] = pd.to_datetime(running_balances['TransactionDate'])\n",
    "\n",
    "# Filter and pivot Portfolio balances\n",
    "portfolio_balances = running_balances[running_balances['TransactionClass'] == 'Portfolio'].copy()\n",
    "portfolio_balances['RunningTotal'] = pd.to_numeric(portfolio_balances['RunningTotal'])\n",
    "\n",
    "# Create a series with daily portfolio balances\n",
    "daily_portfolio = portfolio_balances.set_index('TransactionDate')['RunningTotal']\n",
    "\n",
    "# Add portfolio balance to runningBalances DataFrame\n",
    "running_balances = running_balances.merge(\n",
    "    daily_portfolio.reset_index().rename(columns={'RunningTotal': 'Portfolio'}),\n",
    "    on='TransactionDate',\n",
    "    how='left'\n",
    ")"
   ]
  },
  {
   "cell_type": "code",
   "execution_count": null,
   "id": "3fc67912",
   "metadata": {},
   "outputs": [],
   "source": [
    "# Add the asset class PercentMax column to the running balances DataFrame matching the on TransactionClass column\n",
    "\n",
    "# Create a mapping dictionary from Title to PercentMax\n",
    "percentmax_mapping = dict(zip(asset_classes['Title'], asset_classes['PercentMax']))\n",
    "\n",
    "# Update PercentMax in running_balances using the mapping\n",
    "running_balances['PercentMax'] = running_balances['TransactionClass'].map(percentmax_mapping).fillna(1.0)\n",
    "\n",
    "# Convert PercentMax to float\n",
    "# running_balances['PercentMax'] = pd.to_numeric(running_balances['PercentMax'])\n",
    "\n",
    "# Check the PercentMax mapping\n",
    "# percentmax_mapping\n",
    "# running_balances #.info()"
   ]
  },
  {
   "cell_type": "code",
   "execution_count": null,
   "id": "d5bc4963",
   "metadata": {},
   "outputs": [],
   "source": [
    "# Compute the asset class's maximum based on the policy\n",
    "#       NOTE: The PercentMax map() inserts an object instead of a float. The object->float conversion resets the value to 0.0. TODO: Fix this.\n",
    "                    # running_balances['PolicyMax'] = 0\n",
    "running_balances['PolicyMax'] = running_balances['Portfolio'] * running_balances['PercentMax'].astype(float)\n",
    "# running_balances.info()"
   ]
  },
  {
   "cell_type": "code",
   "execution_count": null,
   "id": "6902648f",
   "metadata": {},
   "outputs": [],
   "source": [
    "# Add the daily available cash balance to the running balances DataFrame\n",
    "\n",
    "# Filter and pivot cash balances\n",
    "cash_balances = running_balances[running_balances['TransactionClass'] == 'Cash/Sweep'].copy()\n",
    "cash_balances['RunningTotal'] = pd.to_numeric(cash_balances['RunningTotal'])\n",
    "\n",
    "# Create a series with daily portfolio balances\n",
    "daily_cash = cash_balances.set_index('TransactionDate')['RunningTotal']\n",
    "\n",
    "# Add portfolio balance to runningBalances DataFrame\n",
    "running_balances = running_balances.merge(\n",
    "    daily_cash.reset_index().rename(columns={'RunningTotal': 'CashSweep'}),\n",
    "    on='TransactionDate',\n",
    "    how='left'\n",
    ")"
   ]
  },
  {
   "cell_type": "code",
   "execution_count": null,
   "id": "b5fc8394",
   "metadata": {},
   "outputs": [],
   "source": [
    "# Add the amount investable column\n",
    "#       if [TransactionClass] <> \"Portfolio\" && [TransactionClass] <> \"Cash/Sweep\",\n",
    "#       then [PolicyMax]-[RunningTotal] else [RunningTotal]\n",
    "\n",
    "# Convert RunningTotal to numeric if it's not already\n",
    "running_balances['RunningTotal'] = pd.to_numeric(running_balances['RunningTotal'])\n",
    "\n",
    "# Add Investable column based on the condition\n",
    "running_balances['Investable'] = np.where(\n",
    "    (running_balances['TransactionClass'] != 'Portfolio') &\n",
    "    (running_balances['TransactionClass'] != 'Cash/Sweep'),\n",
    "    running_balances['PolicyMax'] - running_balances['RunningTotal'],\n",
    "    running_balances['RunningTotal']\n",
    ")\n"
   ]
  },
  {
   "cell_type": "code",
   "execution_count": null,
   "id": "ec834266",
   "metadata": {},
   "outputs": [],
   "source": [
    "# Add the final available column\n",
    "#       if ([TransactionClass] <> \"Portfolio\" && [TransactionClass] <> \"Cash/Sweep\",\n",
    "#       then MIN([CashSweep],[Investable]) else [RunningTotal])\n",
    "running_balances['Available'] = np.where(\n",
    "    (running_balances['TransactionClass'] != 'Portfolio') &\n",
    "    (running_balances['TransactionClass'] != 'Cash/Sweep'),\n",
    "    np.minimum(running_balances['CashSweep'], running_balances['Investable']),\n",
    "    running_balances['RunningTotal']\n",
    ")"
   ]
  },
  {
   "cell_type": "code",
   "execution_count": null,
   "id": "1e95c95d",
   "metadata": {},
   "outputs": [],
   "source": [
    "# Test output the final dataframe\n",
    "\n",
    "# Suppress scientific notation by setting float_format\n",
    "pd.options.display.float_format = '{:,.0f}'.format\n",
    "\n",
    "# Display the dataframe without scientific notation\n",
    "running_balances[running_balances['TransactionClass'] == 'US Agencies']\n"
   ]
  },
  {
   "cell_type": "code",
   "execution_count": null,
   "id": "0f378b6e",
   "metadata": {},
   "outputs": [],
   "source": [
    "# Save the final DataFrame to a pickle file\n",
    "running_balances.to_pickle('running_balances.pkl')"
   ]
  }
 ],
 "metadata": {
  "kernelspec": {
   "display_name": ".venv",
   "language": "python",
   "name": "python3"
  },
  "language_info": {
   "codemirror_mode": {
    "name": "ipython",
    "version": 3
   },
   "file_extension": ".py",
   "mimetype": "text/x-python",
   "name": "python",
   "nbconvert_exporter": "python",
   "pygments_lexer": "ipython3",
   "version": "3.13.3"
  }
 },
 "nbformat": 4,
 "nbformat_minor": 5
}
