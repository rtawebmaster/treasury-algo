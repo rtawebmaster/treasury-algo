{
 "cells": [
  {
   "cell_type": "code",
   "execution_count": 2,
   "metadata": {},
   "outputs": [
    {
     "name": "stdout",
     "output_type": "stream",
     "text": [
      "Database URL: timetables.mysql.database.azure.com\n"
     ]
    }
   ],
   "source": [
    "import mysql.connector\n",
    "import pandas as pd\n",
    "import numpy as np\n",
    "import os\n",
    "from dotenv import load_dotenv\n",
    "load_dotenv(verbose=True)\n",
    "\n",
    "# Database connection parameters\n",
    "DB_CONFIG = {\n",
    "    \"host\": os.getenv(\"DB_HOST\"),\n",
    "    \"user\": os.getenv(\"DB_USER\"),\n",
    "    \"password\": os.getenv(\"DB_PASSWORD\"),\n",
    "    \"database\": os.getenv(\"DB_NAME\"),\n",
    "}\n",
    "\n",
    "print('Database URL: ' + os.environ.get('DB_HOST'))"
   ]
  },
  {
   "cell_type": "code",
   "execution_count": 3,
   "metadata": {},
   "outputs": [],
   "source": [
    "# Fetch data from database and return as a DataFrame\n",
    "def fetch_data(table_name, column_names='*', condition='1'):\n",
    "    try:\n",
    "        # Connect\n",
    "        conn = mysql.connector.connect(**DB_CONFIG)\n",
    "        cursor = conn.cursor()\n",
    "        # Fetch\n",
    "        query = f\"SELECT {column_names} FROM {table_name} WHERE {condition}\"\n",
    "        cursor.execute(query)\n",
    "        # Fetch column names\n",
    "        columns = [col[0] for col in cursor.description]\n",
    "        # Fetch data\n",
    "        data = cursor.fetchall()\n",
    "        df = pd.DataFrame(data, columns=columns)\n",
    "        return df\n",
    "    except mysql.connector.Error as err:\n",
    "        print(f\"Error: {err}\")\n",
    "        return None\n",
    "    finally:\n",
    "        if 'conn' in locals() and conn.is_connected():\n",
    "            cursor.close()\n",
    "            conn.close()"
   ]
  },
  {
   "cell_type": "code",
   "execution_count": 4,
   "metadata": {},
   "outputs": [
    {
     "name": "stdout",
     "output_type": "stream",
     "text": [
      "  TransactionDate     Portfolio    Cash_Sweep US_Treasuries         CDs  \\\n",
      "0      2025-01-21  654628445.37  151070374.54  163716733.42  2600000.00   \n",
      "1      2025-01-22  492520445.37   37442374.54  163716733.42  2600000.00   \n",
      "2      2025-01-23  492520445.37   47442374.54  163716733.42  2600000.00   \n",
      "3      2025-01-24  470088445.37   33510374.54  163716733.42  2600000.00   \n",
      "4      2025-01-25  470088445.37   33510374.54  163716733.42  2600000.00   \n",
      "\n",
      "  CommercialPapers  MoneyMarket   MutualFund   US_Agencies  \n",
      "0     170669204.47  20065580.67  18975581.76  127530970.51  \n",
      "1     156169204.47  20065580.67  18975581.76   93550970.51  \n",
      "2     146169204.47  20065580.67  18975581.76   93550970.51  \n",
      "3     137669204.47  20065580.67  18975581.76   93550970.51  \n",
      "4     137669204.47  20065580.67  18975581.76   93550970.51  \n"
     ]
    }
   ],
   "source": [
    "# Query the running balance of the asset classes\n",
    "table_name = 'assetclassbalances'\n",
    "column_names = 'TransactionDate, Portfolio, Cash_Sweep, US_Treasuries, CDs, CommercialPapers, MoneyMarket, MutualFund, US_Agencies'\n",
    "condition = 'Title '\n",
    "assets = fetch_data(table_name, column_names)\n",
    "\n",
    "if assets is not None:\n",
    "    print(assets.head())"
   ]
  },
  {
   "cell_type": "code",
   "execution_count": 5,
   "metadata": {},
   "outputs": [
    {
     "name": "stdout",
     "output_type": "stream",
     "text": [
      "               AssetClass  PercentMax     AssetClassKey\n",
      "0              Cash/Sweep        1.00        Cash_Sweep\n",
      "1  Certificate of Deposit        0.50               CDs\n",
      "2        Commercial Paper        0.50  CommercialPapers\n",
      "3             US Agencies        0.25       US_Agencies\n",
      "4            Money Market        0.50       MoneyMarket\n",
      "5             Mutual Fund        0.50        MutualFund\n",
      "6           US Treasuries        0.50     US_Treasuries\n"
     ]
    }
   ],
   "source": [
    "# Query the asset class max. percentages\n",
    "table_name = 'AssetClass'\n",
    "column_names = 'Title AS \"AssetClass\", PercentMax'\n",
    "condition = 'AssetClassParentID = 0 && Title != \"Not Assigned\"'\n",
    "max_percent = fetch_data(table_name, column_names, condition)\n",
    "if max_percent is not None:\n",
    "    # Insert an asset class key for column mapping\n",
    "    asset_class_mapping = {\n",
    "        'Cash/Sweep': 'Cash_Sweep',\n",
    "        'US Treasuries': 'US_Treasuries',\n",
    "        'Certificate of Deposit': 'CDs',\n",
    "        'Commercial Paper': 'CommercialPapers',\n",
    "        'Money Market': 'MoneyMarket',\n",
    "        'Mutual Fund': 'MutualFund',\n",
    "        'US Agencies': 'US_Agencies'\n",
    "    }\n",
    "    max_percent['AssetClassKey'] = max_percent['AssetClass'].map(asset_class_mapping)\n",
    "\n",
    "    # Convert PercentMax to float\n",
    "max_percent['PercentMax'] = max_percent['PercentMax'].astype(float)\n",
    "\n",
    "print(max_percent)\n",
    "# max_percent.info()"
   ]
  },
  {
   "cell_type": "code",
   "execution_count": 33,
   "metadata": {},
   "outputs": [
    {
     "name": "stdout",
     "output_type": "stream",
     "text": [
      "Min:28,568,374.54  Max:387,489,374.54\n",
      "3589\n"
     ]
    },
    {
     "data": {
      "text/html": [
       "<div>\n",
       "<style scoped>\n",
       "    .dataframe tbody tr th:only-of-type {\n",
       "        vertical-align: middle;\n",
       "    }\n",
       "\n",
       "    .dataframe tbody tr th {\n",
       "        vertical-align: top;\n",
       "    }\n",
       "\n",
       "    .dataframe thead th {\n",
       "        text-align: right;\n",
       "    }\n",
       "</style>\n",
       "<table border=\"1\" class=\"dataframe\">\n",
       "  <thead>\n",
       "    <tr style=\"text-align: right;\">\n",
       "      <th></th>\n",
       "      <th>Cash</th>\n",
       "    </tr>\n",
       "  </thead>\n",
       "  <tbody>\n",
       "    <tr>\n",
       "      <th>0</th>\n",
       "      <td>28568374</td>\n",
       "    </tr>\n",
       "    <tr>\n",
       "      <th>1</th>\n",
       "      <td>28668408</td>\n",
       "    </tr>\n",
       "    <tr>\n",
       "      <th>2</th>\n",
       "      <td>28768441</td>\n",
       "    </tr>\n",
       "    <tr>\n",
       "      <th>3</th>\n",
       "      <td>28868475</td>\n",
       "    </tr>\n",
       "    <tr>\n",
       "      <th>4</th>\n",
       "      <td>28968509</td>\n",
       "    </tr>\n",
       "    <tr>\n",
       "      <th>...</th>\n",
       "      <td>...</td>\n",
       "    </tr>\n",
       "    <tr>\n",
       "      <th>3584</th>\n",
       "      <td>387089239</td>\n",
       "    </tr>\n",
       "    <tr>\n",
       "      <th>3585</th>\n",
       "      <td>387189273</td>\n",
       "    </tr>\n",
       "    <tr>\n",
       "      <th>3586</th>\n",
       "      <td>387289307</td>\n",
       "    </tr>\n",
       "    <tr>\n",
       "      <th>3587</th>\n",
       "      <td>387389340</td>\n",
       "    </tr>\n",
       "    <tr>\n",
       "      <th>3588</th>\n",
       "      <td>387489374</td>\n",
       "    </tr>\n",
       "  </tbody>\n",
       "</table>\n",
       "<p>3589 rows × 1 columns</p>\n",
       "</div>"
      ],
      "text/plain": [
       "           Cash\n",
       "0      28568374\n",
       "1      28668408\n",
       "2      28768441\n",
       "3      28868475\n",
       "4      28968509\n",
       "...         ...\n",
       "3584  387089239\n",
       "3585  387189273\n",
       "3586  387289307\n",
       "3587  387389340\n",
       "3588  387489374\n",
       "\n",
       "[3589 rows x 1 columns]"
      ]
     },
     "execution_count": 33,
     "metadata": {},
     "output_type": "execute_result"
    }
   ],
   "source": [
    "# Get the available cash min and max values\n",
    "min_cash = assets['Cash_Sweep'].min()\n",
    "max_cash = assets['Cash_Sweep'].max()\n",
    "print(f\"Min:{min_cash:,}\" + '  ' f\"Max:{max_cash:,}\")\n",
    "\n",
    "# Create a df with values between min_cash and max_cash (inclusive) named 'Cash'.\n",
    "def prorate_cash_values(num_values, min_cash, max_cash):\n",
    "    prorated_values = pd.Series(np.linspace(min_cash, max_cash, num_values))\n",
    "    prorated_df = pd.DataFrame({'Cash': prorated_values})\n",
    "    prorated_df['Cash'] = prorated_df['Cash'].astype(int)\n",
    "    return prorated_df\n",
    "\n",
    "# Prorate the cash interval values\n",
    "min_investment = 100000\n",
    "num_values = int((max_cash - min_cash) / min_investment)\n",
    "print(num_values)\n",
    "\n",
    "prorated_df = prorate_cash_values(num_values, min_cash, max_cash)\n",
    "prorated_df\n"
   ]
  },
  {
   "cell_type": "code",
   "execution_count": 26,
   "metadata": {},
   "outputs": [
    {
     "data": {
      "text/plain": [
       "'For 3,589 prorated values the increment is: $100,034'"
      ]
     },
     "execution_count": 26,
     "metadata": {},
     "output_type": "execute_result"
    }
   ],
   "source": [
    "# Check the increment delta by subtracting the second cash value from the first\n",
    "increment = prorated_df['Cash'].iloc[1] - prorated_df['Cash'].iloc[0]\n",
    "f\"For {num_values:,} prorated values the increment is: ${increment:,}\""
   ]
  },
  {
   "cell_type": "code",
   "execution_count": 45,
   "metadata": {},
   "outputs": [
    {
     "data": {
      "text/html": [
       "<div>\n",
       "<style scoped>\n",
       "    .dataframe tbody tr th:only-of-type {\n",
       "        vertical-align: middle;\n",
       "    }\n",
       "\n",
       "    .dataframe tbody tr th {\n",
       "        vertical-align: top;\n",
       "    }\n",
       "\n",
       "    .dataframe thead th {\n",
       "        text-align: right;\n",
       "    }\n",
       "</style>\n",
       "<table border=\"1\" class=\"dataframe\">\n",
       "  <thead>\n",
       "    <tr style=\"text-align: right;\">\n",
       "      <th></th>\n",
       "      <th>Date</th>\n",
       "      <th>Cash</th>\n",
       "    </tr>\n",
       "  </thead>\n",
       "  <tbody>\n",
       "    <tr>\n",
       "      <th>0</th>\n",
       "      <td>2025-01-21</td>\n",
       "      <td>151070374.54</td>\n",
       "    </tr>\n",
       "    <tr>\n",
       "      <th>1</th>\n",
       "      <td>2025-01-22</td>\n",
       "      <td>37442374.54</td>\n",
       "    </tr>\n",
       "    <tr>\n",
       "      <th>2</th>\n",
       "      <td>2025-01-23</td>\n",
       "      <td>47442374.54</td>\n",
       "    </tr>\n",
       "    <tr>\n",
       "      <th>3</th>\n",
       "      <td>2025-01-24</td>\n",
       "      <td>33510374.54</td>\n",
       "    </tr>\n",
       "    <tr>\n",
       "      <th>4</th>\n",
       "      <td>2025-01-25</td>\n",
       "      <td>33510374.54</td>\n",
       "    </tr>\n",
       "    <tr>\n",
       "      <th>...</th>\n",
       "      <td>...</td>\n",
       "      <td>...</td>\n",
       "    </tr>\n",
       "    <tr>\n",
       "      <th>156</th>\n",
       "      <td>2025-06-26</td>\n",
       "      <td>258505374.54</td>\n",
       "    </tr>\n",
       "    <tr>\n",
       "      <th>157</th>\n",
       "      <td>2025-06-27</td>\n",
       "      <td>257205374.54</td>\n",
       "    </tr>\n",
       "    <tr>\n",
       "      <th>158</th>\n",
       "      <td>2025-06-28</td>\n",
       "      <td>257205374.54</td>\n",
       "    </tr>\n",
       "    <tr>\n",
       "      <th>159</th>\n",
       "      <td>2025-06-29</td>\n",
       "      <td>257205374.54</td>\n",
       "    </tr>\n",
       "    <tr>\n",
       "      <th>160</th>\n",
       "      <td>2025-06-30</td>\n",
       "      <td>274585374.54</td>\n",
       "    </tr>\n",
       "  </tbody>\n",
       "</table>\n",
       "<p>161 rows × 2 columns</p>\n",
       "</div>"
      ],
      "text/plain": [
       "           Date          Cash\n",
       "0    2025-01-21  151070374.54\n",
       "1    2025-01-22   37442374.54\n",
       "2    2025-01-23   47442374.54\n",
       "3    2025-01-24   33510374.54\n",
       "4    2025-01-25   33510374.54\n",
       "..          ...           ...\n",
       "156  2025-06-26  258505374.54\n",
       "157  2025-06-27  257205374.54\n",
       "158  2025-06-28  257205374.54\n",
       "159  2025-06-29  257205374.54\n",
       "160  2025-06-30  274585374.54\n",
       "\n",
       "[161 rows x 2 columns]"
      ]
     },
     "execution_count": 45,
     "metadata": {},
     "output_type": "execute_result"
    }
   ],
   "source": [
    "\n",
    "algo_df = assets[['TransactionDate', 'Cash_Sweep']].sort_values(by='TransactionDate', ascending=True).rename(columns={'TransactionDate': 'Date', 'Cash_Sweep': 'Cash'})\n",
    "algo_df"
   ]
  },
  {
   "cell_type": "code",
   "execution_count": null,
   "metadata": {},
   "outputs": [],
   "source": [
    "\n",
    "\n",
    "\n",
    "# For each cash amount in the prorated_df create a column in a results DataFrame\n",
    "# to store the bool check if the cash amount exceeds the cash_sweep balance, and the bool check if the cash amount exceeds the max percent\n",
    "# include the date and cash_sweep balance in results.\n",
    "\n",
    "# results = pd.DataFrame()\n",
    "\n",
    "# for index, row in assets.iterrows():\n",
    "#     date = row['TransactionDate']\n",
    "#     cash_sweep_balance = float(row['Cash_Sweep'])\n",
    "#     max_percent_balance = cash_sweep_balance * max_percent.loc[max_percent['AssetClassKey'] == 'Cash_Sweep', 'PercentMax'].values[0]\n",
    "\n",
    "#     results[date] = prorated_df['Cash'].apply(lambda x: (x > cash_sweep_balance, x > max_percent_balance))\n",
    "\n",
    "# results = results.T\n",
    "# results.columns = pd.MultiIndex.from_product([prorated_df['Cash'], ['Exceeds_Cash_Sweep', 'Exceeds_Max_Percent']])\n",
    "# results.index.name = 'TransactionDate'\n",
    "# results.reset_index(inplace=True)\n",
    "\n",
    "# results\n",
    "\n"
   ]
  },
  {
   "cell_type": "code",
   "execution_count": 39,
   "metadata": {},
   "outputs": [
    {
     "data": {
      "text/plain": [
       "RangeIndex(start=0, stop=3589, step=1)"
      ]
     },
     "execution_count": 39,
     "metadata": {},
     "output_type": "execute_result"
    }
   ],
   "source": [
    "results.columns"
   ]
  }
 ],
 "metadata": {
  "kernelspec": {
   "display_name": "Python 3",
   "language": "python",
   "name": "python3"
  },
  "language_info": {
   "codemirror_mode": {
    "name": "ipython",
    "version": 3
   },
   "file_extension": ".py",
   "mimetype": "text/x-python",
   "name": "python",
   "nbconvert_exporter": "python",
   "pygments_lexer": "ipython3",
   "version": "3.13.1"
  }
 },
 "nbformat": 4,
 "nbformat_minor": 2
}
